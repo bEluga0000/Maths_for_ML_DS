{
 "cells": [
  {
   "cell_type": "code",
   "execution_count": 1,
   "id": "b38ae223-6ead-4153-a241-35c799eef7d6",
   "metadata": {},
   "outputs": [],
   "source": [
    "import numpy as np"
   ]
  },
  {
   "cell_type": "code",
   "execution_count": 4,
   "id": "9a0de7c8-7e7a-43fd-9eb5-98568bfc68f1",
   "metadata": {},
   "outputs": [
    {
     "data": {
      "text/plain": [
       "(2,)"
      ]
     },
     "execution_count": 4,
     "metadata": {},
     "output_type": "execute_result"
    }
   ],
   "source": [
    "\n",
    "A = np.array([\n",
    "        [-1, 3],\n",
    "        [3, 2]\n",
    "    ], dtype=np.dtype(float))\n",
    "b = np.array([7, 1], dtype=np.dtype(float))\n",
    "b.shape\n"
   ]
  },
  {
   "cell_type": "code",
   "execution_count": 5,
   "id": "4f7296e1-76dc-4826-a42d-d289e63b711a",
   "metadata": {},
   "outputs": [
    {
     "data": {
      "text/plain": [
       "array([-1.,  2.])"
      ]
     },
     "execution_count": 5,
     "metadata": {},
     "output_type": "execute_result"
    }
   ],
   "source": [
    "x = np.linalg.solve(A, b)\n",
    "x"
   ]
  },
  {
   "cell_type": "code",
   "execution_count": 7,
   "id": "386dd344-f7c3-4c2c-8d16-939fed79be8a",
   "metadata": {},
   "outputs": [
    {
     "data": {
      "text/plain": [
       "-11.000000000000002"
      ]
     },
     "execution_count": 7,
     "metadata": {},
     "output_type": "execute_result"
    }
   ],
   "source": [
    "d = np.linalg.det(A)\n",
    "d"
   ]
  },
  {
   "cell_type": "code",
   "execution_count": 10,
   "id": "86d5a130-2554-47ae-a30a-40e279d491f4",
   "metadata": {},
   "outputs": [
    {
     "data": {
      "text/plain": [
       "array([[-1.,  3.,  7.],\n",
       "       [ 3.,  2.,  1.]])"
      ]
     },
     "execution_count": 10,
     "metadata": {},
     "output_type": "execute_result"
    }
   ],
   "source": [
    "# elimination method\n",
    "A_system = np.hstack((A,b.reshape(2,1)))\n",
    "A_system"
   ]
  },
  {
   "cell_type": "code",
   "execution_count": 11,
   "id": "88a32228-63f8-400d-9466-a7b63429735c",
   "metadata": {},
   "outputs": [],
   "source": [
    "A_system_res = A_system.copy()"
   ]
  },
  {
   "cell_type": "code",
   "execution_count": 12,
   "id": "cd503400-437e-4b20-82d9-864802a40a14",
   "metadata": {},
   "outputs": [],
   "source": [
    "A_system_res[1]  = 3 * A_system_res[0]+A_system_res[1]"
   ]
  },
  {
   "cell_type": "code",
   "execution_count": 15,
   "id": "40635e7e-5a5d-49fd-8bb3-8fd1761b5fa4",
   "metadata": {},
   "outputs": [
    {
     "data": {
      "text/plain": [
       "array([[-1.,  3.,  7.],\n",
       "       [ 0.,  1.,  2.]])"
      ]
     },
     "execution_count": 15,
     "metadata": {},
     "output_type": "execute_result"
    }
   ],
   "source": [
    "A_system_res"
   ]
  },
  {
   "cell_type": "code",
   "execution_count": 14,
   "id": "4f4b6ee3-cf97-4940-a0e8-de122f021a35",
   "metadata": {},
   "outputs": [],
   "source": [
    "A_system_res[1] = 1/11 * A_system_res[1]"
   ]
  },
  {
   "cell_type": "code",
   "execution_count": 16,
   "id": "3df0da51-274a-44d8-a656-6d0141d1d0fd",
   "metadata": {},
   "outputs": [
    {
     "name": "stdout",
     "output_type": "stream",
     "text": [
      "Determinant of matrix A_2: -0.00\n"
     ]
    }
   ],
   "source": [
    "# LE with no solutions\n",
    "A_2 = np.array([\n",
    "        [-1, 3],\n",
    "        [3, -9]\n",
    "    ], dtype=np.dtype(float))\n",
    "\n",
    "b_2 = np.array([7, 1], dtype=np.dtype(float))\n",
    "\n",
    "d_2 = np.linalg.det(A_2)\n",
    "\n",
    "print(f\"Determinant of matrix A_2: {d_2:.2f}\")"
   ]
  },
  {
   "cell_type": "code",
   "execution_count": 18,
   "id": "afe41912-c3c4-4491-af0a-c456e24ab108",
   "metadata": {},
   "outputs": [
    {
     "data": {
      "text/plain": [
       "array([1.32105589e+17, 4.40351964e+16])"
      ]
     },
     "execution_count": 18,
     "metadata": {},
     "output_type": "execute_result"
    }
   ],
   "source": [
    "\n",
    "try:\n",
    "    x_2 = np.linalg.solve(A_2, b_2)\n",
    "except np.linalg.LinAlgError as err:\n",
    "    print(err)\n",
    "x_2"
   ]
  },
  {
   "cell_type": "code",
   "execution_count": 19,
   "id": "3c1a961e-d2fb-493f-b1de-a0324bc04100",
   "metadata": {},
   "outputs": [
    {
     "name": "stdout",
     "output_type": "stream",
     "text": [
      "[[ -1.   3.   7.]\n",
      " [  3.  -9. -21.]]\n",
      "[[-1.  3.  7.]\n",
      " [ 0.  0.  0.]]\n"
     ]
    }
   ],
   "source": [
    "# LE with infinite many solutions\n",
    "b_3 = np.array([7, -21], dtype=np.dtype(float))\n",
    "\n",
    "A_3_system = np.hstack((A_2, b_3.reshape((2, 1))))\n",
    "print(A_3_system)\n",
    "\n",
    "# copy() matrix.\n",
    "A_3_system_res = A_3_system.copy()\n",
    "\n",
    "# Multiply row 0 by 3 and add it to the row 1.\n",
    "A_3_system_res[1] = 3 * A_3_system_res[0] + A_3_system_res[1]\n",
    "print(A_3_system_res)"
   ]
  },
  {
   "cell_type": "code",
   "execution_count": 20,
   "id": "701ce286-c293-458f-bf16-d04756c528f6",
   "metadata": {},
   "outputs": [
    {
     "data": {
      "text/plain": [
       "array([4.44089210e-16, 2.33333333e+00])"
      ]
     },
     "execution_count": 20,
     "metadata": {},
     "output_type": "execute_result"
    }
   ],
   "source": [
    "try:\n",
    "    ans = np.linalg.solve(A_2,b_3)\n",
    "except np.linalg.LinAlgError as err:\n",
    "    print(err)\n",
    "ans\n"
   ]
  },
  {
   "cell_type": "code",
   "execution_count": 31,
   "id": "e0126c6c-358a-4e27-a158-92b2f034fca1",
   "metadata": {},
   "outputs": [
    {
     "data": {
      "text/plain": [
       "array([6., 1.])"
      ]
     },
     "execution_count": 31,
     "metadata": {},
     "output_type": "execute_result"
    }
   ],
   "source": [
    "# quiz question\n",
    "# 2b+3m = 15g\n",
    "# 2b+4m = 16g\n",
    "quiz_array = np.array(([2,3],[2,4]),np.dtype(float))\n",
    "quiz_b_array = np.array([15,16],np.dtype(float))\n",
    "ans = np.linalg.solve(quiz_array,quiz_b_array)\n",
    "det = np.linalg.det(quiz_array)\n",
    "ans\n",
    "# det"
   ]
  },
  {
   "cell_type": "code",
   "execution_count": 38,
   "id": "39073662-f888-467b-9728-2d146773b884",
   "metadata": {},
   "outputs": [
    {
     "data": {
      "text/plain": [
       "array([2.5, 2.5, 2.5])"
      ]
     },
     "execution_count": 38,
     "metadata": {},
     "output_type": "execute_result"
    }
   ],
   "source": [
    "# next question with new weights\n",
    "# 2b+1m+5c = 20g\n",
    "# 1b+2m+1c = 10g\n",
    "# 2b+1m+3c = 15g\n",
    "quiz_array = np.array(([2,1,5],[1,2,1],[2,1,3]),np.dtype(float))\n",
    "quiz_b_array = np.array([20,10,15],np.dtype(float))\n",
    "ans = np.linalg.solve(quiz_array,quiz_b_array)\n",
    "det = np.linalg.det(quiz_array)\n",
    "# det\n",
    "ans"
   ]
  },
  {
   "cell_type": "code",
   "execution_count": 40,
   "id": "c6ec9dab-607a-4e65-9322-65c1781c66de",
   "metadata": {},
   "outputs": [
    {
     "data": {
      "text/plain": [
       "0.0"
      ]
     },
     "execution_count": 40,
     "metadata": {},
     "output_type": "execute_result"
    }
   ],
   "source": [
    "quiz_array = np.array(([1,2,3],[0,2,2],[1,4,5]),np.dtype(float))\n",
    "quiz_b_array = np.array([20,10,15],np.dtype(float))\n",
    "# ans = np.linalg.solve(quiz_array,quiz_b_array)\n",
    "det = np.linalg.det(quiz_array)\n",
    "det\n",
    "# ans"
   ]
  },
  {
   "cell_type": "code",
   "execution_count": null,
   "id": "ca41e938-527d-4a13-848f-168a827db6b3",
   "metadata": {},
   "outputs": [],
   "source": []
  }
 ],
 "metadata": {
  "kernelspec": {
   "display_name": "Python 3 (ipykernel)",
   "language": "python",
   "name": "python3"
  },
  "language_info": {
   "codemirror_mode": {
    "name": "ipython",
    "version": 3
   },
   "file_extension": ".py",
   "mimetype": "text/x-python",
   "name": "python",
   "nbconvert_exporter": "python",
   "pygments_lexer": "ipython3",
   "version": "3.11.3"
  }
 },
 "nbformat": 4,
 "nbformat_minor": 5
}
