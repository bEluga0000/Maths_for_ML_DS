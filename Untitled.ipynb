{
 "cells": [
  {
   "cell_type": "code",
   "execution_count": 1,
   "id": "be135fb0-bda4-403e-8bd6-b83424a9a466",
   "metadata": {},
   "outputs": [],
   "source": [
    "import numpy as np"
   ]
  },
  {
   "cell_type": "code",
   "execution_count": 3,
   "id": "eb4ee009-8681-4806-87e1-93b39f7be9a2",
   "metadata": {},
   "outputs": [
    {
     "name": "stdout",
     "output_type": "stream",
     "text": [
      "[1 2]\n"
     ]
    }
   ],
   "source": [
    "# all the array with in the array are same type\n",
    "one_d_array = np.array([1,2])\n",
    "print(one_d_array)"
   ]
  },
  {
   "cell_type": "code",
   "execution_count": 7,
   "id": "264e8802-8d45-4897-90b9-a356747b5446",
   "metadata": {},
   "outputs": [
    {
     "name": "stdout",
     "output_type": "stream",
     "text": [
      "[0 1 2]\n"
     ]
    }
   ],
   "source": [
    "# creating the with range\n",
    "b = np.arange(3)\n",
    "print(b)"
   ]
  },
  {
   "cell_type": "code",
   "execution_count": 9,
   "id": "444a53b1-2d02-4adf-8262-089c7f08ac83",
   "metadata": {},
   "outputs": [
    {
     "data": {
      "text/plain": [
       "array([ 1,  4,  7, 10, 13, 16, 19])"
      ]
     },
     "execution_count": 9,
     "metadata": {},
     "output_type": "execute_result"
    }
   ],
   "source": [
    "# crate a array that start end and step\n",
    "c = np.arange(1,20,3)\n",
    "c"
   ]
  },
  {
   "cell_type": "code",
   "execution_count": 12,
   "id": "02c7b7fc-b1ac-4b91-a9a7-aeabd7c6b8e6",
   "metadata": {},
   "outputs": [
    {
     "data": {
      "text/plain": [
       "array([  0.,  25.,  50.,  75., 100.])"
      ]
     },
     "execution_count": 12,
     "metadata": {},
     "output_type": "execute_result"
    }
   ],
   "source": [
    "# even placed number from start to end\n",
    "lin_spaced = np.linspace(0,100,5)\n",
    "lin_spaced"
   ]
  },
  {
   "cell_type": "code",
   "execution_count": 14,
   "id": "25f8626c-3dc1-4bde-88e0-e27c544fdc65",
   "metadata": {},
   "outputs": [
    {
     "data": {
      "text/plain": [
       "array([1., 2.])"
      ]
     },
     "execution_count": 14,
     "metadata": {},
     "output_type": "execute_result"
    }
   ],
   "source": [
    "c = np.arange(1,3,dtype=float)\n",
    "c"
   ]
  },
  {
   "cell_type": "code",
   "execution_count": 23,
   "id": "2b43a97f-9af0-4c8c-9f88-11686bfd5ce5",
   "metadata": {},
   "outputs": [
    {
     "name": "stdout",
     "output_type": "stream",
     "text": [
      "[1.]\n",
      "[1. 1. 1. 1.]\n",
      "[0. 0. 0. 0. 0. 0. 0. 0. 0. 0.]\n",
      "[0. 0. 0. 0. 0. 0. 0. 0. 0. 0.]\n",
      "[0.93833133 0.21425789 0.26634444 0.33425945 0.40263161 0.53570688\n",
      " 0.91632184 0.00618702 0.80646011 0.13461264]\n"
     ]
    }
   ],
   "source": [
    "print(np.ones(1))\n",
    "print(np.ones(4))\n",
    "print(np.zeros(10))\n",
    "print(np.empty(10))\n",
    "print(np.random.rand(10))"
   ]
  },
  {
   "cell_type": "code",
   "execution_count": 26,
   "id": "92089d14-92c2-45ad-832a-a6ff79bb64b9",
   "metadata": {},
   "outputs": [
    {
     "data": {
      "text/plain": [
       "array([[1],\n",
       "       [1]])"
      ]
     },
     "execution_count": 26,
     "metadata": {},
     "output_type": "execute_result"
    }
   ],
   "source": [
    "# Multidimentional array\n",
    "two_d_array = np.array([[1],[1]])\n",
    "two_d_array"
   ]
  },
  {
   "cell_type": "code",
   "execution_count": 29,
   "id": "82d5be22-b4c9-4d01-816c-fb13f968965e",
   "metadata": {},
   "outputs": [
    {
     "name": "stdout",
     "output_type": "stream",
     "text": [
      "[[0.64391016 0.04247158 0.04570086]\n",
      " [0.4453872  0.30166004 0.25091093]]\n"
     ]
    }
   ],
   "source": [
    "# reshape\n",
    "print(np.reshape(np.random.rand(6),(2,3)))"
   ]
  },
  {
   "cell_type": "code",
   "execution_count": null,
   "id": "0dfc7e2f-f286-4631-b134-54c33c980f22",
   "metadata": {},
   "outputs": [],
   "source": []
  }
 ],
 "metadata": {
  "kernelspec": {
   "display_name": "Python 3 (ipykernel)",
   "language": "python",
   "name": "python3"
  },
  "language_info": {
   "codemirror_mode": {
    "name": "ipython",
    "version": 3
   },
   "file_extension": ".py",
   "mimetype": "text/x-python",
   "name": "python",
   "nbconvert_exporter": "python",
   "pygments_lexer": "ipython3",
   "version": "3.11.3"
  }
 },
 "nbformat": 4,
 "nbformat_minor": 5
}
